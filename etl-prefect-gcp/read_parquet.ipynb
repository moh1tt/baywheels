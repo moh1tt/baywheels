{
 "cells": [
  {
   "cell_type": "code",
   "execution_count": 2,
   "metadata": {},
   "outputs": [
    {
     "name": "stdout",
     "output_type": "stream",
     "text": [
      "   duration_sec              start_time                end_time  \\\n",
      "0         75284 2018-01-31 22:52:35.239 2018-02-01 19:47:19.824   \n",
      "1         85422 2018-01-31 16:13:34.351 2018-02-01 15:57:17.310   \n",
      "2         71576 2018-01-31 14:23:55.889 2018-02-01 10:16:52.116   \n",
      "3         61076 2018-01-31 14:53:23.562 2018-02-01 07:51:20.500   \n",
      "4         39966 2018-01-31 19:52:24.667 2018-02-01 06:58:31.053   \n",
      "\n",
      "   start_station_id                                 start_station_name  \\\n",
      "0               120                               Mission Dolores Park   \n",
      "1                15  San Francisco Ferry Building (Harry Bridges Pl...   \n",
      "2               304                               Jackson St at 5th St   \n",
      "3                75                           Market St at Franklin St   \n",
      "4                74                              Laguna St at Hayes St   \n",
      "\n",
      "   start_station_latitude  start_station_longitude  end_station_id  \\\n",
      "0               37.761420              -122.426435             285   \n",
      "1               37.795392              -122.394203              15   \n",
      "2               37.348759              -121.894798             296   \n",
      "3               37.773793              -122.421239              47   \n",
      "4               37.776435              -122.426244              19   \n",
      "\n",
      "                                    end_station_name  end_station_latitude  \\\n",
      "0                         Webster St at O'Farrell St             37.783521   \n",
      "1  San Francisco Ferry Building (Harry Bridges Pl...             37.795392   \n",
      "2                              5th St at Virginia St             37.325998   \n",
      "3                              4th St at Harrison St             37.780955   \n",
      "4                               Post St at Kearny St             37.788975   \n",
      "\n",
      "   end_station_longitude  bike_id   user_type bike_share_for_all_trip  \n",
      "0            -122.431158     2765  Subscriber                      No  \n",
      "1            -122.394203     2815    Customer                      No  \n",
      "2            -121.877120     3039    Customer                      No  \n",
      "3            -122.399749      321    Customer                      No  \n",
      "4            -122.403452      617  Subscriber                      No  \n"
     ]
    }
   ],
   "source": [
    "import pandas as pd\n",
    "\n",
    "# Specify the path to the Parquet file\n",
    "file_path = \"data/201801-fordgobike-tripdata.parquet\"\n",
    "\n",
    "# Read the Parquet file into a pandas DataFrame\n",
    "df = pd.read_parquet(file_path)\n",
    "\n",
    "# Display the first few rows of the DataFrame\n",
    "print(df.head())\n"
   ]
  },
  {
   "cell_type": "code",
   "execution_count": null,
   "metadata": {},
   "outputs": [],
   "source": []
  }
 ],
 "metadata": {
  "kernelspec": {
   "display_name": "baywheelsvenv",
   "language": "python",
   "name": "python3"
  },
  "language_info": {
   "codemirror_mode": {
    "name": "ipython",
    "version": 3
   },
   "file_extension": ".py",
   "mimetype": "text/x-python",
   "name": "python",
   "nbconvert_exporter": "python",
   "pygments_lexer": "ipython3",
   "version": "3.12.5"
  }
 },
 "nbformat": 4,
 "nbformat_minor": 2
}
